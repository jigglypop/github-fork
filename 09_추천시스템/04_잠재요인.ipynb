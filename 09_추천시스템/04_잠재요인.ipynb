{
 "nbformat": 4,
 "nbformat_minor": 2,
 "metadata": {
  "language_info": {
   "name": "python",
   "codemirror_mode": {
    "name": "ipython",
    "version": 3
   },
   "version": "3.7.5"
  },
  "orig_nbformat": 2,
  "file_extension": ".py",
  "mimetype": "text/x-python",
  "name": "python",
  "npconvert_exporter": "python",
  "pygments_lexer": "ipython3",
  "version": 3
 },
 "cells": [
  {
   "cell_type": "code",
   "execution_count": 5,
   "metadata": {},
   "outputs": [],
   "source": [
    "import numpy as np\n",
    "\n",
    "R = np.array([[4,np.NaN,np.NaN,2,np.NaN],[np.NaN,5,np.NaN,3,1],[np.NaN,np.NaN,3,4,4],[5,2,1,2,np.NaN]])\n",
    "num_users, num_items = R.shape\n",
    "k = 3\n",
    "np.random.seed(1)\n",
    "P = np.random.normal(scale=1./k, size=(num_users,k))\n",
    "Q = np.random.normal(scale=1./k, size=(num_items,k))"
   ]
  },
  {
   "cell_type": "code",
   "execution_count": 7,
   "metadata": {},
   "outputs": [],
   "source": [
    "from sklearn.metrics import mean_squared_error\n",
    "\n",
    "def get_rmse(R,P,O,non_zeros):\n",
    "    error = 0\n",
    "    full_pred_matrix = np.dot(P,Q.T)\n",
    "    x_non_zero_ind = [non_zero[0] for non_zero in non_zeros]\n",
    "    y_non_zero_ind = [non_zero[1] for non_zero in non_zeros]\n",
    "    R_non_zeros = R[x_non_zero_ind,y_non_zero_ind]"
   ]
  }
 ]
}