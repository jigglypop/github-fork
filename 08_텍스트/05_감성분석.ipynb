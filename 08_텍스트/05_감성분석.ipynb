{
 "nbformat": 4,
 "nbformat_minor": 2,
 "metadata": {
  "language_info": {
   "name": "python",
   "codemirror_mode": {
    "name": "ipython",
    "version": 3
   },
   "version": "3.7.5"
  },
  "orig_nbformat": 2,
  "file_extension": ".py",
  "mimetype": "text/x-python",
  "name": "python",
  "npconvert_exporter": "python",
  "pygments_lexer": "ipython3",
  "version": 3
 },
 "cells": [
  {
   "cell_type": "code",
   "execution_count": 15,
   "metadata": {},
   "outputs": [
    {
     "name": "stdout",
     "output_type": "stream",
     "text": "id  sentiment                                             review\n0   5814_8          1  With all this stuff going down at the moment w...\n1   2381_9          1  \\The Classic War of the Worlds\\\" by Timothy Hi...\n2   7759_3          0  The film starts with a manager (Nicholas Bell)...\n3   3630_4          0  It must be assumed that those who praised this...\n4   9495_8          1  Superbly trashy and wondrously unpretentious 8...\n5   8196_8          1  I dont know why people think this is such a ba...\n6   7166_2          0  This movie could have been very good, but come...\n7  10633_1          0  I watched this video at a friend's house. I'm ...\n8    319_1          0  A friend of mine bought this film for £1, and ...\n9  8713_10          1  <br /><br />This movie is full of references. ...\n"
    }
   ],
   "source": [
    "import pandas as pd\n",
    "\n",
    "review_df = pd.read_csv(\"labeledTrainData.tsv\",header=0,sep='\\t')\n",
    "print(review_df.head(10))"
   ]
  },
  {
   "cell_type": "code",
   "execution_count": 16,
   "metadata": {},
   "outputs": [
    {
     "name": "stdout",
     "output_type": "stream",
     "text": "id  sentiment                                             review\n0   5814_8          1  WithallthisstuffgoingdownatthemomentwithMJives...\n1   2381_9          1  TheClassicWaroftheWorldsbyTimothyHinesisaverye...\n2   7759_3          0  ThefilmstartswithamanagerNicholasBellgivingwel...\n3   3630_4          0  Itmustbeassumedthatthosewhopraisedthisfilmtheg...\n4   9495_8          1  Superblytrashyandwondrouslyunpretentioussexplo...\n5   8196_8          1  IdontknowwhypeoplethinkthisissuchabadmovieItsg...\n6   7166_2          0  Thismoviecouldhavebeenverygoodbutcomesupwaysho...\n7  10633_1          0  IwatchedthisvideoatafriendshouseImgladIdidnotw...\n8    319_1          0  Afriendofmineboughtthisfilmforandeventhenitwas...\n9  8713_10          1  ThismovieisfullofreferencesLikeMadMaxIIThewild...\n"
    }
   ],
   "source": [
    "import re\n",
    "\n",
    "review_df['review'] = review_df['review'].str.replace('<br />','')\n",
    "review_df['review'] = review_df['review'].apply(lambda x: re.sub(\"[^a-zA-Z]\",'',x))\n",
    "print(review_df.head(10))"
   ]
  },
  {
   "cell_type": "code",
   "execution_count": null,
   "metadata": {},
   "outputs": [],
   "source": [
    "from sklearn.model_selection import train_test_split\n",
    "\n",
    "class_df = review_df['sentiment']\n",
    "feature_df = review_df.drop(['id','sentiment'],axis=1,inplace=False)\n",
    "X_train,X_test,y_train,y_test = train_test_split(feature_df,class_df,test_size = 0.3,random_state=156)"
   ]
  }
 ]
}