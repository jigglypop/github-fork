{
 "nbformat": 4,
 "nbformat_minor": 2,
 "metadata": {
  "language_info": {
   "name": "python",
   "codemirror_mode": {
    "name": "ipython",
    "version": 3
   },
   "version": "3.7.3"
  },
  "orig_nbformat": 2,
  "file_extension": ".py",
  "mimetype": "text/x-python",
  "name": "python",
  "npconvert_exporter": "python",
  "pygments_lexer": "ipython3",
  "version": 3
 },
 "cells": [
  {
   "cell_type": "code",
   "execution_count": 13,
   "metadata": {},
   "outputs": [
    {
     "name": "stdout",
     "output_type": "stream",
     "text": "(7862, 1000)\n"
    }
   ],
   "source": [
    "from sklearn.datasets import fetch_20newsgroups\n",
    "from sklearn.feature_extraction.text import CountVectorizer\n",
    "from sklearn.decomposition import LatentDirichletAllocation\n",
    "import pprint\n",
    "\n",
    "cats = ['rec.motorcycles', 'rec.sport.baseball', 'comp.graphics', 'comp.windows.x',\n",
    "        'talk.politics.mideast', 'soc.religion.christian', 'sci.electronics', 'sci.med']\n",
    "news_df = fetch_20newsgroups(subset='all',remove=('headers','footers','quotes'),categories=cats,random_state=0)\n",
    "count_vect = CountVectorizer(max_df=95,min_df=2,max_features=1000,stop_words='english',ngram_range=(1,2))\n",
    "feat_vect = count_vect.fit_transform(news_df.data)\n",
    "print(feat_vect.shape)"
   ]
  },
  {
   "cell_type": "code",
   "execution_count": 22,
   "metadata": {},
   "outputs": [
    {
     "ename": "AttributeError",
     "evalue": "'numpy.ndarray' object has no attribute 'inspect'",
     "output_type": "error",
     "traceback": [
      "\u001b[1;31m---------------------------------------------------------------------------\u001b[0m",
      "\u001b[1;31mAttributeError\u001b[0m                            Traceback (most recent call last)",
      "\u001b[1;32m<ipython-input-22-07581e2fe5fe>\u001b[0m in \u001b[0;36m<module>\u001b[1;34m\u001b[0m\n\u001b[0;32m      3\u001b[0m \u001b[0mlda\u001b[0m \u001b[1;33m=\u001b[0m \u001b[0mLatentDirichletAllocation\u001b[0m\u001b[1;33m(\u001b[0m\u001b[0mn_components\u001b[0m\u001b[1;33m=\u001b[0m\u001b[1;36m8\u001b[0m\u001b[1;33m,\u001b[0m\u001b[0mrandom_state\u001b[0m\u001b[1;33m=\u001b[0m\u001b[1;36m0\u001b[0m\u001b[1;33m)\u001b[0m\u001b[1;33m\u001b[0m\u001b[1;33m\u001b[0m\u001b[0m\n\u001b[0;32m      4\u001b[0m \u001b[0mlda\u001b[0m\u001b[1;33m.\u001b[0m\u001b[0mfit\u001b[0m\u001b[1;33m(\u001b[0m\u001b[0mfeat_vect\u001b[0m\u001b[1;33m)\u001b[0m\u001b[1;33m\u001b[0m\u001b[1;33m\u001b[0m\u001b[0m\n\u001b[1;32m----> 5\u001b[1;33m \u001b[0mlda\u001b[0m\u001b[1;33m.\u001b[0m\u001b[0mcomponents_\u001b[0m\u001b[1;33m.\u001b[0m\u001b[0minspect\u001b[0m\u001b[1;33m\u001b[0m\u001b[1;33m\u001b[0m\u001b[0m\n\u001b[0m",
      "\u001b[1;31mAttributeError\u001b[0m: 'numpy.ndarray' object has no attribute 'inspect'"
     ]
    }
   ],
   "source": [
    "#LDA(차원축소)\n",
    "\n",
    "lda = LatentDirichletAllocation(n_components=8,random_state=0)\n",
    "lda.fit(feat_vect)\n",
    "lda.components_"
   ]
  },
  {
   "cell_type": "code",
   "execution_count": 21,
   "metadata": {},
   "outputs": [
    {
     "name": "stdout",
     "output_type": "stream",
     "text": "#0 cancer hiv aids drug vitamin patient diet infection clinical newsletter risk drugs candida symptoms doctors\n#1 turkey russian azerbaijan 03 02 04 ottoman istanbul professor greece azerbaijani town apartment door british\n#2 entry homosexuality palestinian adl homosexual printf palestinians rules oname char stream pope police palestine sex\n#3 dos dos dos 92 ms kuwait xfree86 microsoft tcp vga microsoft windows 12 92 os amiga disk operating\n#4 jpeg scripture mary eternal marriage grace bmw pitching doctrine braves spiritual helmet beliefs bikes cubs\n#5 wire msg voltage string wiring cable green echo neutral visual noise null shell electronics equipment\n#6 pub tar 128 ray gov sgi mit edu mailing dec objects battery dog archive contrib chip\n#7 xterm lib usr openwindows xv keyboard processing pixel fonts xview tiff mac colors font mouse\n"
    }
   ],
   "source": [
    "# 15개 출력 함수\n",
    "def display_topics(model,feature_names,end):\n",
    "    for i,topic in enumerate(model.components_):\n",
    "        indexes = topic.argsort()[::-1]\n",
    "        indexes_ = indexes[:end]\n",
    "        feature_concat = ' '.join([feature_names[i] for i in indexes_])\n",
    "        print('#{} {}'.format(i,feature_concat))\n",
    "feature_names = count_vect.get_feature_names()\n",
    "display_topics(lda,feature_names,15)"
   ]
  }
 ]
}