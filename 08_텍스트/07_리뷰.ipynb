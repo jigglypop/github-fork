{
 "nbformat": 4,
 "nbformat_minor": 2,
 "metadata": {
  "language_info": {
   "name": "python",
   "codemirror_mode": {
    "name": "ipython",
    "version": 3
   },
   "version": "3.7.3"
  },
  "orig_nbformat": 2,
  "file_extension": ".py",
  "mimetype": "text/x-python",
  "name": "python",
  "npconvert_exporter": "python",
  "pygments_lexer": "ipython3",
  "version": 3
 },
 "cells": [
  {
   "cell_type": "code",
   "execution_count": 4,
   "metadata": {},
   "outputs": [
    {
     "name": "stderr",
     "output_type": "stream",
     "text": "C:\\Users\\YDH\\Anaconda3\\lib\\site-packages\\ipykernel_launcher.py:8: FutureWarning: read_table is deprecated, use read_csv instead, passing sep='\\t'.\n  \n"
    },
    {
     "data": {
      "text/html": "<div>\n<style scoped>\n    .dataframe tbody tr th:only-of-type {\n        vertical-align: middle;\n    }\n\n    .dataframe tbody tr th {\n        vertical-align: top;\n    }\n\n    .dataframe thead th {\n        text-align: right;\n    }\n</style>\n<table border=\"1\" class=\"dataframe\">\n  <thead>\n    <tr style=\"text-align: right;\">\n      <th></th>\n      <th>filename</th>\n      <th>opinion_text</th>\n    </tr>\n  </thead>\n  <tbody>\n    <tr>\n      <th>0</th>\n      <td>accuracy_garmin_nuvi_255W_gps</td>\n      <td>, and is very, very acc...</td>\n    </tr>\n    <tr>\n      <th>1</th>\n      <td>bathroom_bestwestern_hotel_sfo</td>\n      <td>The room was not overly big, but clean and...</td>\n    </tr>\n    <tr>\n      <th>2</th>\n      <td>battery-life_amazon_kindle</td>\n      <td>After I plugged it in to my USB hub on my ...</td>\n    </tr>\n  </tbody>\n</table>\n</div>",
      "text/plain": "                         filename  \\\n0   accuracy_garmin_nuvi_255W_gps   \n1  bathroom_bestwestern_hotel_sfo   \n2      battery-life_amazon_kindle   \n\n                                        opinion_text  \n0                         , and is very, very acc...  \n1      The room was not overly big, but clean and...  \n2      After I plugged it in to my USB hub on my ...  "
     },
     "execution_count": 4,
     "metadata": {},
     "output_type": "execute_result"
    }
   ],
   "source": [
    "import pandas as pd\n",
    "import glob,os\n",
    "\n",
    "all_files = glob.glob(os.path.join(r\"topics\",\"*.data\"))\n",
    "filename_list = []\n",
    "opinion_text = []\n",
    "for file_ in all_files:\n",
    "    df = pd.read_table(file_,index_col=None,header=0,encoding='latin1')\n",
    "    filename_ = file_.split('\\\\')[-1]\n",
    "    filename = filename_.split('.')[0]\n",
    "    filename_list.append(filename)\n",
    "    opinion_text.append(df.to_string())\n",
    "document_df = pd.DataFrame({'filename':filename_list,'opinion_text':opinion_text})\n",
    "document_df.head(3)"
   ]
  },
  {
   "cell_type": "code",
   "execution_count": 9,
   "metadata": {},
   "outputs": [
    {
     "name": "stderr",
     "output_type": "stream",
     "text": "[nltk_data] Downloading package punkt to\n[nltk_data]     C:\\Users\\YDH\\AppData\\Roaming\\nltk_data...\n[nltk_data]   Package punkt is already up-to-date!\n[nltk_data] Downloading package wordnet to\n[nltk_data]     C:\\Users\\YDH\\AppData\\Roaming\\nltk_data...\n[nltk_data]   Unzipping corpora\\wordnet.zip.\n"
    }
   ],
   "source": [
    "from nltk.stem import WordNetLemmatizer\n",
    "import nltk\n",
    "import string\n",
    "nltk.download('punkt')\n",
    "nltk.download('wordnet')\n",
    "\n",
    "remove_punct_dict = dict((ord(punct), None) for punct in string.punctuation)\n",
    "lemmar = WordNetLemmatizer()\n",
    "\n",
    "def LemTokens(tokens):\n",
    "    return [lemmar.lemmatize(token) for token in tokens]\n",
    "def LemNormalize(text):\n",
    "    return LemTokens(nltk.word_tokenize(text.lower().translate(remove_punct_dict)))"
   ]
  },
  {
   "cell_type": "code",
   "execution_count": 10,
   "metadata": {},
   "outputs": [
    {
     "name": "stderr",
     "output_type": "stream",
     "text": "C:\\Users\\YDH\\Anaconda3\\lib\\site-packages\\sklearn\\feature_extraction\\text.py:301: UserWarning: Your stop_words may be inconsistent with your preprocessing. Tokenizing the stop words generated tokens ['ha', 'le', 'u', 'wa'] not in stop_words.\n  'stop_words.' % sorted(inconsistent))\n"
    }
   ],
   "source": [
    "from sklearn.feature_extraction.text import TfidfVectorizer\n",
    "\n",
    "tfidf_vect = TfidfVectorizer(tokenizer=LemNormalize,min_df=5,max_df=85,stop_words='english',ngram_range=(1,2))\n",
    "feature_vect = tfidf_vect.fit_transform(document_df['opinion_text'])"
   ]
  },
  {
   "cell_type": "code",
   "execution_count": 12,
   "metadata": {},
   "outputs": [],
   "source": [
    "from sklearn.cluster import KMeans\n",
    "\n",
    "km_cluster = KMeans(n_clusters=5,max_iter=10000,random_state=0)\n",
    "km_cluster.fit(feature_vect)\n",
    "cluster_label = km_cluster.labels_\n",
    "cluster_centers = km_cluster.cluster_centers_"
   ]
  },
  {
   "cell_type": "code",
   "execution_count": 15,
   "metadata": {},
   "outputs": [
    {
     "data": {
      "text/html": "<div>\n<style scoped>\n    .dataframe tbody tr th:only-of-type {\n        vertical-align: middle;\n    }\n\n    .dataframe tbody tr th {\n        vertical-align: top;\n    }\n\n    .dataframe thead th {\n        text-align: right;\n    }\n</style>\n<table border=\"1\" class=\"dataframe\">\n  <thead>\n    <tr style=\"text-align: right;\">\n      <th></th>\n      <th>filename</th>\n      <th>opinion_text</th>\n      <th>cluster_label</th>\n    </tr>\n  </thead>\n  <tbody>\n    <tr>\n      <th>1</th>\n      <td>bathroom_bestwestern_hotel_sfo</td>\n      <td>The room was not overly big, but clean and...</td>\n      <td>0</td>\n    </tr>\n    <tr>\n      <th>30</th>\n      <td>rooms_bestwestern_hotel_sfo</td>\n      <td>Great Location ,  Nice   Rooms ,  Helpless...</td>\n      <td>0</td>\n    </tr>\n    <tr>\n      <th>31</th>\n      <td>rooms_swissotel_chicago</td>\n      <td>The Swissotel is one of our favorite hotel...</td>\n      <td>0</td>\n    </tr>\n    <tr>\n      <th>32</th>\n      <td>room_holiday_inn_london</td>\n      <td>We arrived at 23,30 hours and they could n...</td>\n      <td>0</td>\n    </tr>\n    <tr>\n      <th>2</th>\n      <td>battery-life_amazon_kindle</td>\n      <td>After I plugged it in to my USB hub on my ...</td>\n      <td>1</td>\n    </tr>\n    <tr>\n      <th>3</th>\n      <td>battery-life_ipod_nano_8gb</td>\n      <td>short battery life  I moved up from a...</td>\n      <td>1</td>\n    </tr>\n    <tr>\n      <th>4</th>\n      <td>battery-life_netbook_1005ha</td>\n      <td>6GHz 533FSB cpu, glossy display, 3, Cell 2...</td>\n      <td>1</td>\n    </tr>\n    <tr>\n      <th>19</th>\n      <td>keyboard_netbook_1005ha</td>\n      <td>,  I think the new keyboard rivals the gre...</td>\n      <td>1</td>\n    </tr>\n    <tr>\n      <th>44</th>\n      <td>speed_windows7</td>\n      <td>Windows 7 is quite simply faster, more sta...</td>\n      <td>1</td>\n    </tr>\n    <tr>\n      <th>26</th>\n      <td>performance_netbook_1005ha</td>\n      <td>The Eee Super Hybrid Engine utility lets u...</td>\n      <td>1</td>\n    </tr>\n    <tr>\n      <th>42</th>\n      <td>sound_ipod_nano_8gb</td>\n      <td>headphone jack i got a clear case for it a...</td>\n      <td>1</td>\n    </tr>\n    <tr>\n      <th>0</th>\n      <td>accuracy_garmin_nuvi_255W_gps</td>\n      <td>, and is very, very acc...</td>\n      <td>2</td>\n    </tr>\n    <tr>\n      <th>27</th>\n      <td>price_amazon_kindle</td>\n      <td>If a case was included, as with the Kindle...</td>\n      <td>2</td>\n    </tr>\n    <tr>\n      <th>36</th>\n      <td>screen_netbook_1005ha</td>\n      <td>Keep in mind that once you get in a room ...</td>\n      <td>2</td>\n    </tr>\n    <tr>\n      <th>34</th>\n      <td>screen_garmin_nuvi_255W_gps</td>\n      <td>It is easy to read and when touching the...</td>\n      <td>2</td>\n    </tr>\n    <tr>\n      <th>35</th>\n      <td>screen_ipod_nano_8gb</td>\n      <td>As always, the video screen is sharp and b...</td>\n      <td>2</td>\n    </tr>\n    <tr>\n      <th>49</th>\n      <td>video_ipod_nano_8gb</td>\n      <td>I bought the 8, gig Ipod Nano that has the...</td>\n      <td>2</td>\n    </tr>\n    <tr>\n      <th>41</th>\n      <td>size_asus_netbook_1005ha</td>\n      <td>A few other things I'd like to point out i...</td>\n      <td>2</td>\n    </tr>\n    <tr>\n      <th>43</th>\n      <td>speed_garmin_nuvi_255W_gps</td>\n      <td>Another feature on the 255w is a display of...</td>\n      <td>2</td>\n    </tr>\n    <tr>\n      <th>48</th>\n      <td>updates_garmin_nuvi_255W_gps</td>\n      <td>Another thing to consider was that I paid $...</td>\n      <td>2</td>\n    </tr>\n    <tr>\n      <th>33</th>\n      <td>satellite_garmin_nuvi_255W_gps</td>\n      <td>It's fast to acquire satel...</td>\n      <td>2</td>\n    </tr>\n    <tr>\n      <th>23</th>\n      <td>navigation_amazon_kindle</td>\n      <td>In fact, the entire navigation structure h...</td>\n      <td>2</td>\n    </tr>\n    <tr>\n      <th>50</th>\n      <td>voice_garmin_nuvi_255W_gps</td>\n      <td>The voice prompts and maps are wonderful ...</td>\n      <td>2</td>\n    </tr>\n    <tr>\n      <th>10</th>\n      <td>eyesight-issues_amazon_kindle</td>\n      <td>It feels as easy to read as the K1 but doe...</td>\n      <td>2</td>\n    </tr>\n    <tr>\n      <th>5</th>\n      <td>buttons_amazon_kindle</td>\n      <td>I thought it would be fitting to christen ...</td>\n      <td>2</td>\n    </tr>\n    <tr>\n      <th>8</th>\n      <td>directions_garmin_nuvi_255W_gps</td>\n      <td>You also get upscale features like spoken ...</td>\n      <td>2</td>\n    </tr>\n    <tr>\n      <th>9</th>\n      <td>display_garmin_nuvi_255W_gps</td>\n      <td>3 quot  widescreen display was a ...</td>\n      <td>2</td>\n    </tr>\n    <tr>\n      <th>11</th>\n      <td>features_windows7</td>\n      <td>I had to uninstall anti, virus and selecte...</td>\n      <td>2</td>\n    </tr>\n    <tr>\n      <th>12</th>\n      <td>fonts_amazon_kindle</td>\n      <td>Being able to change the font sizes is aw...</td>\n      <td>2</td>\n    </tr>\n    <tr>\n      <th>46</th>\n      <td>staff_swissotel_chicago</td>\n      <td>The staff at Swissotel were not particula...</td>\n      <td>3</td>\n    </tr>\n    <tr>\n      <th>45</th>\n      <td>staff_bestwestern_hotel_sfo</td>\n      <td>Staff are friendly and hel...</td>\n      <td>3</td>\n    </tr>\n    <tr>\n      <th>40</th>\n      <td>service_swissotel_hotel_chicago</td>\n      <td>Mediocre room and service for a very extr...</td>\n      <td>3</td>\n    </tr>\n    <tr>\n      <th>39</th>\n      <td>service_holiday_inn_london</td>\n      <td>not customer, oriented hotelvery low servi...</td>\n      <td>3</td>\n    </tr>\n    <tr>\n      <th>38</th>\n      <td>service_bestwestern_hotel_sfo</td>\n      <td>Both of us having worked in tourism for o...</td>\n      <td>3</td>\n    </tr>\n    <tr>\n      <th>21</th>\n      <td>location_holiday_inn_london</td>\n      <td>Great location for tube and we crammed in...</td>\n      <td>3</td>\n    </tr>\n    <tr>\n      <th>14</th>\n      <td>food_swissotel_chicago</td>\n      <td>The food for our event was deli...</td>\n      <td>3</td>\n    </tr>\n    <tr>\n      <th>15</th>\n      <td>free_bestwestern_hotel_sfo</td>\n      <td>The wine reception is a great idea as it i...</td>\n      <td>3</td>\n    </tr>\n    <tr>\n      <th>28</th>\n      <td>price_holiday_inn_london</td>\n      <td>All in all, a normal chain hotel on a nice...</td>\n      <td>3</td>\n    </tr>\n    <tr>\n      <th>20</th>\n      <td>location_bestwestern_hotel_sfo</td>\n      <td>Good Value good location ,  ideal ...</td>\n      <td>3</td>\n    </tr>\n    <tr>\n      <th>24</th>\n      <td>parking_bestwestern_hotel_sfo</td>\n      <td>Parking was expensive but I think this is ...</td>\n      <td>3</td>\n    </tr>\n    <tr>\n      <th>13</th>\n      <td>food_holiday_inn_london</td>\n      <td>The room was packed to capacity with queu...</td>\n      <td>3</td>\n    </tr>\n    <tr>\n      <th>22</th>\n      <td>mileage_honda_accord_2008</td>\n      <td>It's quiet, get good gas mileage and look...</td>\n      <td>4</td>\n    </tr>\n    <tr>\n      <th>37</th>\n      <td>seats_honda_accord_2008</td>\n      <td>Front seats are very uncomfor...</td>\n      <td>4</td>\n    </tr>\n    <tr>\n      <th>16</th>\n      <td>gas_mileage_toyota_camry_2007</td>\n      <td>Ride seems comfortable and gas mileage fa...</td>\n      <td>4</td>\n    </tr>\n    <tr>\n      <th>29</th>\n      <td>quality_toyota_camry_2007</td>\n      <td>I previously owned a Toyota 4Runner which ...</td>\n      <td>4</td>\n    </tr>\n    <tr>\n      <th>17</th>\n      <td>interior_honda_accord_2008</td>\n      <td>I love the new body style and the interior...</td>\n      <td>4</td>\n    </tr>\n    <tr>\n      <th>7</th>\n      <td>comfort_toyota_camry_2007</td>\n      <td>Ride seems comfortable and gas mileage fa...</td>\n      <td>4</td>\n    </tr>\n    <tr>\n      <th>6</th>\n      <td>comfort_honda_accord_2008</td>\n      <td>Drivers seat not comfortable, the car its...</td>\n      <td>4</td>\n    </tr>\n    <tr>\n      <th>18</th>\n      <td>interior_toyota_camry_2007</td>\n      <td>First of all, the interior has way too ma...</td>\n      <td>4</td>\n    </tr>\n    <tr>\n      <th>47</th>\n      <td>transmission_toyota_camry_2007</td>\n      <td>After slowing down, transmission has to b...</td>\n      <td>4</td>\n    </tr>\n    <tr>\n      <th>25</th>\n      <td>performance_honda_accord_2008</td>\n      <td>Very happy with my 08 Accord, performance i...</td>\n      <td>4</td>\n    </tr>\n  </tbody>\n</table>\n</div>",
      "text/plain": "                           filename  \\\n1    bathroom_bestwestern_hotel_sfo   \n30      rooms_bestwestern_hotel_sfo   \n31          rooms_swissotel_chicago   \n32          room_holiday_inn_london   \n2        battery-life_amazon_kindle   \n3        battery-life_ipod_nano_8gb   \n4       battery-life_netbook_1005ha   \n19          keyboard_netbook_1005ha   \n44                   speed_windows7   \n26       performance_netbook_1005ha   \n42              sound_ipod_nano_8gb   \n0     accuracy_garmin_nuvi_255W_gps   \n27              price_amazon_kindle   \n36            screen_netbook_1005ha   \n34      screen_garmin_nuvi_255W_gps   \n35             screen_ipod_nano_8gb   \n49              video_ipod_nano_8gb   \n41         size_asus_netbook_1005ha   \n43       speed_garmin_nuvi_255W_gps   \n48     updates_garmin_nuvi_255W_gps   \n33   satellite_garmin_nuvi_255W_gps   \n23         navigation_amazon_kindle   \n50       voice_garmin_nuvi_255W_gps   \n10    eyesight-issues_amazon_kindle   \n5             buttons_amazon_kindle   \n8   directions_garmin_nuvi_255W_gps   \n9      display_garmin_nuvi_255W_gps   \n11                features_windows7   \n12              fonts_amazon_kindle   \n46          staff_swissotel_chicago   \n45      staff_bestwestern_hotel_sfo   \n40  service_swissotel_hotel_chicago   \n39       service_holiday_inn_london   \n38    service_bestwestern_hotel_sfo   \n21      location_holiday_inn_london   \n14           food_swissotel_chicago   \n15       free_bestwestern_hotel_sfo   \n28         price_holiday_inn_london   \n20   location_bestwestern_hotel_sfo   \n24    parking_bestwestern_hotel_sfo   \n13          food_holiday_inn_london   \n22        mileage_honda_accord_2008   \n37          seats_honda_accord_2008   \n16    gas_mileage_toyota_camry_2007   \n29        quality_toyota_camry_2007   \n17       interior_honda_accord_2008   \n7         comfort_toyota_camry_2007   \n6         comfort_honda_accord_2008   \n18       interior_toyota_camry_2007   \n47   transmission_toyota_camry_2007   \n25    performance_honda_accord_2008   \n\n                                         opinion_text  cluster_label  \n1       The room was not overly big, but clean and...              0  \n30      Great Location ,  Nice   Rooms ,  Helpless...              0  \n31      The Swissotel is one of our favorite hotel...              0  \n32      We arrived at 23,30 hours and they could n...              0  \n2       After I plugged it in to my USB hub on my ...              1  \n3            short battery life  I moved up from a...              1  \n4       6GHz 533FSB cpu, glossy display, 3, Cell 2...              1  \n19      ,  I think the new keyboard rivals the gre...              1  \n44      Windows 7 is quite simply faster, more sta...              1  \n26      The Eee Super Hybrid Engine utility lets u...              1  \n42      headphone jack i got a clear case for it a...              1  \n0                          , and is very, very acc...              2  \n27      If a case was included, as with the Kindle...              2  \n36       Keep in mind that once you get in a room ...              2  \n34        It is easy to read and when touching the...              2  \n35      As always, the video screen is sharp and b...              2  \n49      I bought the 8, gig Ipod Nano that has the...              2  \n41      A few other things I'd like to point out i...              2  \n43     Another feature on the 255w is a display of...              2  \n48     Another thing to consider was that I paid $...              2  \n33                      It's fast to acquire satel...              2  \n23      In fact, the entire navigation structure h...              2  \n50       The voice prompts and maps are wonderful ...              2  \n10      It feels as easy to read as the K1 but doe...              2  \n5       I thought it would be fitting to christen ...              2  \n8       You also get upscale features like spoken ...              2  \n9                3 quot  widescreen display was a ...              2  \n11      I had to uninstall anti, virus and selecte...              2  \n12       Being able to change the font sizes is aw...              2  \n46       The staff at Swissotel were not particula...              3  \n45                      Staff are friendly and hel...              3  \n40       Mediocre room and service for a very extr...              3  \n39      not customer, oriented hotelvery low servi...              3  \n38       Both of us having worked in tourism for o...              3  \n21       Great location for tube and we crammed in...              3  \n14                 The food for our event was deli...              3  \n15      The wine reception is a great idea as it i...              3  \n28      All in all, a normal chain hotel on a nice...              3  \n20              Good Value good location ,  ideal ...              3  \n24      Parking was expensive but I think this is ...              3  \n13       The room was packed to capacity with queu...              3  \n22       It's quiet, get good gas mileage and look...              4  \n37                   Front seats are very uncomfor...              4  \n16       Ride seems comfortable and gas mileage fa...              4  \n29      I previously owned a Toyota 4Runner which ...              4  \n17      I love the new body style and the interior...              4  \n7        Ride seems comfortable and gas mileage fa...              4  \n6        Drivers seat not comfortable, the car its...              4  \n18       First of all, the interior has way too ma...              4  \n47       After slowing down, transmission has to b...              4  \n25     Very happy with my 08 Accord, performance i...              4  "
     },
     "execution_count": 15,
     "metadata": {},
     "output_type": "execute_result"
    }
   ],
   "source": [
    "document_df['cluster_label'] = cluster_label\n",
    "document_df.sort_values(by='cluster_label')"
   ]
  }
 ]
}