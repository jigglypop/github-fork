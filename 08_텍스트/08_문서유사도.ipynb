{
 "nbformat": 4,
 "nbformat_minor": 2,
 "metadata": {
  "language_info": {
   "name": "python",
   "codemirror_mode": {
    "name": "ipython",
    "version": 3
   },
   "version": "3.7.5"
  },
  "orig_nbformat": 2,
  "file_extension": ".py",
  "mimetype": "text/x-python",
  "name": "python",
  "npconvert_exporter": "python",
  "pygments_lexer": "ipython3",
  "version": 3
 },
 "cells": [
  {
   "cell_type": "code",
   "execution_count": 8,
   "metadata": {},
   "outputs": [],
   "source": [
    "import numpy as np\n",
    "\n",
    "def cos_similarity(v1,v2):\n",
    "    dot_product = np.dot(v1,v2)\n",
    "    l2_norm = (np.sqrt(sum(np.square(v1)))) * (np.sqrt(sum(np.square(v2)))) \n",
    "    similarity = dot_product / l2_norm\n",
    "    return similarity\n"
   ]
  },
  {
   "cell_type": "code",
   "execution_count": 5,
   "metadata": {},
   "outputs": [
    {
     "name": "stdout",
     "output_type": "stream",
     "text": "(0, 2)\t0.41556360057939173\n  (0, 13)\t0.41556360057939173\n  (0, 8)\t0.24543855687841593\n  (0, 0)\t0.41556360057939173\n  (0, 15)\t0.49087711375683185\n  (0, 14)\t0.24543855687841593\n  (0, 17)\t0.24543855687841593\n  (0, 6)\t0.24543855687841593\n  (1, 16)\t0.39624495215024286\n  (1, 7)\t0.39624495215024286\n  (1, 12)\t0.39624495215024286\n  (1, 10)\t0.3013544995034864\n  (1, 8)\t0.2340286519091622\n  (1, 15)\t0.2340286519091622\n  (1, 14)\t0.2340286519091622\n  (1, 17)\t0.4680573038183244\n  (1, 6)\t0.2340286519091622\n  (2, 3)\t0.3098560092999078\n  (2, 4)\t0.3098560092999078\n  (2, 9)\t0.3098560092999078\n  (2, 1)\t0.3098560092999078\n  (2, 5)\t0.3098560092999078\n  (2, 11)\t0.3098560092999078\n  (2, 10)\t0.23565348175165166\n  (2, 8)\t0.1830059506093466\n  (2, 15)\t0.3660119012186932\n  (2, 14)\t0.1830059506093466\n  (2, 17)\t0.3660119012186932\n  (2, 6)\t0.1830059506093466\n"
    }
   ],
   "source": [
    "from sklearn.feature_extraction.text import TfidfVectorizer\n",
    "\n",
    "doc_list = ['if you take the blue pill, the story ends',\n",
    "            'if you take the red pill, you stay in Wonderland',\n",
    "            'if you take the red pill, i show you how deep the rabbit hole goes']\n",
    "\n",
    "tfidf_vect_simple = TfidfVectorizer()\n",
    "feature_vect_simple = tfidf_vect_simple.fit_transform(doc_list)\n",
    "print(feature_vect_simple)"
   ]
  },
  {
   "cell_type": "code",
   "execution_count": 14,
   "metadata": {},
   "outputs": [
    {
     "name": "stdout",
     "output_type": "stream",
     "text": "0.4020775821495014\n0.40425044775948626\n0.45647296026166395\n"
    }
   ],
   "source": [
    "feature_vect_dense = feature_vect_simple.todense()\n",
    "vect1 = np.array(feature_vect_dense[0]).reshape(-1,)\n",
    "vect2 = np.array(feature_vect_dense[1]).reshape(-1,)\n",
    "vect3 = np.array(feature_vect_dense[2]).reshape(-1,)\n",
    "similarity_simple1 = cos_similarity(vect1,vect2)\n",
    "similarity_simple2 = cos_similarity(vect1,vect3)\n",
    "similarity_simple3 = cos_similarity(vect2,vect3)\n",
    "print(similarity_simple1)\n",
    "print(similarity_simple2)\n",
    "print(similarity_simple3)"
   ]
  },
  {
   "cell_type": "code",
   "execution_count": 17,
   "metadata": {},
   "outputs": [
    {
     "name": "stdout",
     "output_type": "stream",
     "text": "[[0.40207758 0.40425045]]\n"
    }
   ],
   "source": [
    "from sklearn.metrics.pairwise import cosine_similarity\n",
    "\n",
    "pair = cosine_similarity(feature_vect_simple[0],feature_vect_simple[1:])\n",
    "print(pair)\n",
    "pair =  cosine_similarity(feature_vect_simple,feature_vect_simple)\n",
    "print(pair)"
   ]
  }
 ]
}