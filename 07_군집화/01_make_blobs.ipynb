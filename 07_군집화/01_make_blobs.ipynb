{
 "nbformat": 4,
 "nbformat_minor": 2,
 "metadata": {
  "language_info": {
   "name": "python",
   "codemirror_mode": {
    "name": "ipython",
    "version": 3
   },
   "version": "3.7.3"
  },
  "orig_nbformat": 2,
  "file_extension": ".py",
  "mimetype": "text/x-python",
  "name": "python",
  "npconvert_exporter": "python",
  "pygments_lexer": "ipython3",
  "version": 3
 },
 "cells": [
  {
   "cell_type": "code",
   "execution_count": 5,
   "metadata": {},
   "outputs": [
    {
     "name": "stdout",
     "output_type": "stream",
     "text": "ftr1      ftr2  target\n0   -1.692427  3.622025       2\n1    0.697940  4.428867       0\n2    1.100228  4.606317       0\n3   -1.448724  3.384245       2\n4    1.214861  5.364896       0\n5   -0.908302  1.970778       2\n6    2.472119  0.437033       1\n7    1.656842  2.441289       1\n8    1.077800  4.625379       0\n9   -1.679427  2.602003       2\n10   0.653729  5.281743       0\n11  -0.971885  2.790224       2\n12   1.585100  4.401127       0\n13   1.293075  3.429338       0\n14   0.250431  4.345344       0\n15  -1.073072  2.739742       2\n16   2.684330  0.524528       1\n17   2.168830  0.642201       1\n18   0.325753  2.922761       0\n19  -3.151452  4.569477       2\n20  -1.064087  3.197606       2\n21   1.459464  0.236513       1\n22   1.012877  4.154040       0\n23   1.734072  4.179779       0\n24  -3.331355  2.099877       2\n25  -0.314848  4.133595       0\n26   1.540373 -0.881059       1\n27  -2.138219  1.767649       2\n28  -0.840565  3.830764       2\n29  -1.576205  2.832038       2\n..        ...       ...     ...\n170  0.266041  2.719150       0\n171  2.555453 -0.383982       1\n172 -0.388746  5.864408       0\n173  2.977133  1.761359       1\n174 -0.993798  2.549306       2\n175 -0.968138  2.920899       2\n176  2.482791  3.225580       0\n177 -2.885389  3.227707       2\n178  0.360337  4.735187       0\n179  1.074919  1.573154       1\n180  1.142890  5.085099       0\n181 -1.741091  2.015473       2\n182  2.396275  1.439190       1\n183  3.619997  1.209738       1\n184  3.250855 -0.758324       1\n185  2.792074  3.140295       0\n186 -2.102588  2.267488       2\n187  1.137293  0.547408       1\n188  1.091505  5.467206       0\n189  2.514624  5.488199       0\n190 -0.781425  3.189854       2\n191 -1.760374  2.308688       2\n192  0.788917  1.385967       1\n193  1.412540  0.346024       1\n194  1.130322  1.522622       1\n195  2.956576  0.033718       1\n196 -2.074113  4.245523       2\n197  2.783411  1.151438       1\n198  1.226724  3.620511       0\n199  1.474790 -0.209028       1\n\n[200 rows x 3 columns]\n"
    }
   ],
   "source": [
    "import numpy as np\n",
    "import pandas as pd\n",
    "import matplotlib.pyplot as plt\n",
    "from sklearn.cluster import KMeans\n",
    "from sklearn.datasets import make_blobs\n",
    "%matplotlib inline\n",
    "\n",
    "X,y = make_blobs(n_samples=200, n_features=2, centers=3, cluster_std=0.8, random_state=0)\n",
    "unique, counts = np.unique(y,return_counts=True)\n",
    "clusterDF = pd.DataFrame(X,columns=['ftr1','ftr2'])\n",
    "clusterDF['target'] = y\n",
    "\n",
    "markers = ['^','s','o']\n",
    "for i,marker in enumerate(markers):\n",
    "    x = clusterDF[clusterDF['target'] == i]['ftr1']\n",
    "    y = clusterDF[clusterDF['target'] == i]['ftr2']\n",
    "    plt.scatter(x,y,marker=marker)"
   ]
  }
 ]
}