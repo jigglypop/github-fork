{
 "nbformat": 4,
 "nbformat_minor": 2,
 "metadata": {
  "language_info": {
   "name": "python",
   "codemirror_mode": {
    "name": "ipython",
    "version": 3
   },
   "version": "3.7.3"
  },
  "orig_nbformat": 2,
  "file_extension": ".py",
  "mimetype": "text/x-python",
  "name": "python",
  "npconvert_exporter": "python",
  "pygments_lexer": "ipython3",
  "version": 3
 },
 "cells": [
  {
   "cell_type": "code",
   "execution_count": 6,
   "metadata": {},
   "outputs": [
    {
     "name": "stdout",
     "output_type": "stream",
     "text": "(150, 2)\n"
    }
   ],
   "source": [
    "from sklearn.discriminant_analysis import LinearDiscriminantAnalysis\n",
    "from sklearn.preprocessing import StandardScaler\n",
    "from sklearn.datasets import load_iris\n",
    "\n",
    "iris = load_iris()\n",
    "iris_scaled = StandardScaler().fit_transform(iris.data)\n",
    "lda = LinearDiscriminantAnalysis(n_components=2)\n",
    "lda.fit(iris_scaled,iris.target)\n",
    "iris_lda = lda.transform(iris_scaled)\n",
    "print(iris_lda.shape)"
   ]
  },
  {
   "cell_type": "code",
   "execution_count": 9,
   "metadata": {},
   "outputs": [
    {
     "data": {
      "text/html": "<div>\n<style scoped>\n    .dataframe tbody tr th:only-of-type {\n        vertical-align: middle;\n    }\n\n    .dataframe tbody tr th {\n        vertical-align: top;\n    }\n\n    .dataframe thead th {\n        text-align: right;\n    }\n</style>\n<table border=\"1\" class=\"dataframe\">\n  <thead>\n    <tr style=\"text-align: right;\">\n      <th></th>\n      <th>lda_component1</th>\n      <th>lda_component2</th>\n      <th>target</th>\n    </tr>\n  </thead>\n  <tbody>\n    <tr>\n      <th>0</th>\n      <td>-8.061800</td>\n      <td>0.300421</td>\n      <td>0</td>\n    </tr>\n    <tr>\n      <th>1</th>\n      <td>-7.128688</td>\n      <td>-0.786660</td>\n      <td>0</td>\n    </tr>\n    <tr>\n      <th>2</th>\n      <td>-7.489828</td>\n      <td>-0.265384</td>\n      <td>0</td>\n    </tr>\n  </tbody>\n</table>\n</div>",
      "text/plain": "   lda_component1  lda_component2  target\n0       -8.061800        0.300421       0\n1       -7.128688       -0.786660       0\n2       -7.489828       -0.265384       0"
     },
     "execution_count": 9,
     "metadata": {},
     "output_type": "execute_result"
    }
   ],
   "source": [
    "import pandas as pd\n",
    "import matplotlib.pyplot as plt\n",
    "%matplotlib inline\n",
    "\n",
    "lda_columns = ['lda_component1','lda_component2']\n",
    "irisDF_lda = pd.DataFrame(iris_lda,columns=lda_columns)\n",
    "irisDF_lda['target'] = iris.target\n",
    "\n",
    "markers = ['^','s','o']\n",
    "for i,marker in enumerate(markers):\n",
    "    x_axis_data = irisDF_lda[irisDF_lda['target'] == i]['lda_component1']\n",
    "    y_axis_data = irisDF_lda[irisDF_lda['target'] == i]['lda_component2']\n",
    "    plt.scatter(x_axis_data,y_axis_data,marker=marker,label=iris.target_names[i])\n",
    "plt.show()"
   ]
  }
 ]
}