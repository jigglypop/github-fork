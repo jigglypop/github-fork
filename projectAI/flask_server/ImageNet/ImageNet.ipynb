{
 "nbformat": 4,
 "nbformat_minor": 2,
 "metadata": {
  "language_info": {
   "name": "python",
   "codemirror_mode": {
    "name": "ipython",
    "version": 3
   },
   "version": "3.7.6-final"
  },
  "orig_nbformat": 2,
  "file_extension": ".py",
  "mimetype": "text/x-python",
  "name": "python",
  "npconvert_exporter": "python",
  "pygments_lexer": "ipython3",
  "version": 3,
  "kernelspec": {
   "name": "python37464bitactivateconda879590c6a25e47d2a52e6c6107e4465c",
   "display_name": "Python 3.7.4 64-bit ('activate': conda)"
  }
 },
 "cells": [
  {
   "cell_type": "code",
   "execution_count": 9,
   "metadata": {},
   "outputs": [],
   "source": [
    "# 텐서플로 2 버전 선택\n",
    "try:\n",
    "    # %tensorflow_version only exists in Colab.\n",
    "    %tensorflow_version 2.x\n",
    "except Exception:\n",
    "    pass\n",
    "import tensorflow as tf\n",
    "import numpy as np\n",
    ""
   ]
  },
  {
   "cell_type": "code",
   "execution_count": 10,
   "metadata": {},
   "outputs": [
    {
     "output_type": "stream",
     "name": "stdout",
     "text": "Model: \"sequential_1\"\n_________________________________________________________________\nLayer (type)                 Output Shape              Param #   \n=================================================================\nkeras_layer_1 (KerasLayer)   (None, 1001)              3540265   \n=================================================================\nTotal params: 3,540,265\nTrainable params: 0\nNon-trainable params: 3,540,265\n_________________________________________________________________\n"
    }
   ],
   "source": [
    "import tensorflow_hub as hub\n",
    "\n",
    "mobile_net_url = \"https://tfhub.dev/google/tf2-preview/mobilenet_v2/classification/2\"\n",
    "model = tf.keras.Sequential([\n",
    "    hub.KerasLayer(handle=mobile_net_url, input_shape=(224, 224, 3), trainable=False)\n",
    "])\n",
    "model.summary()"
   ]
  },
  {
   "cell_type": "code",
   "execution_count": 11,
   "metadata": {},
   "outputs": [
    {
     "output_type": "stream",
     "name": "stdout",
     "text": "Failed to import pydot. You must install pydot and graphviz for `pydotprint` to work.\n"
    }
   ],
   "source": [
    "from tensorflow.keras.applications import MobileNetV2\n",
    "\n",
    "mobilev2 = MobileNetV2()\n",
    "# tf.keras.utils.plot_model(mobilev2)"
   ]
  },
  {
   "cell_type": "code",
   "execution_count": 18,
   "metadata": {},
   "outputs": [],
   "source": [
    "label_file = tf.keras.utils.get_file('label', './label')\n",
    "label_text = None\n",
    "with open(label_file, 'r') as f:\n",
    "    label_text = f.read().split('\\n')[:-1]"
   ]
  },
  {
   "cell_type": "code",
   "execution_count": 20,
   "metadata": {
    "tags": [
     "outputPrepend"
    ]
   },
   "outputs": [
    {
     "output_type": "stream",
     "name": "stdout",
     "text": "[ 1.7191672  3.0746448  5.520997  16.90995   31.552156 ]\n['cardigan', 'jersey', 'bib', 'pajama', 'sweatshirt']\n"
    }
   ],
   "source": [
    "# plt.figure(figsize=(16,16))\n",
    "\n",
    "def softmax(x):\n",
    "    e_x = np.exp(x - np.max(x))\n",
    "    return e_x / e_x.sum(axis=0)\n",
    "  \n",
    "image_path = \"./02.jpg\"\n",
    "# MobileNet을 이용한 예측\n",
    "logits = model.predict(img)[0]\n",
    "prediction = softmax(logits)\n",
    "\n",
    "# 가장 높은 확률의 예측값 5개를 뽑음\n",
    "top_5_predict = prediction.argsort()[::-1][:5]\n",
    "labels = [label_text[index] for index in top_5_predict]\n",
    "\n",
    "# color = color[::-1]\n",
    "print(prediction[top_5_predict][::-1] * 100)\n",
    "print(labels[::-1])\n"
   ]
  }
 ]
}