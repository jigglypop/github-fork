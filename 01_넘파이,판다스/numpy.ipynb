{
 "nbformat": 4,
 "nbformat_minor": 2,
 "metadata": {
  "language_info": {
   "name": "python",
   "codemirror_mode": {
    "name": "ipython",
    "version": 3
   },
   "version": "3.7.3"
  },
  "orig_nbformat": 2,
  "file_extension": ".py",
  "mimetype": "text/x-python",
  "name": "python",
  "npconvert_exporter": "python",
  "pygments_lexer": "ipython3",
  "version": 3
 },
 "cells": [
  {
   "cell_type": "code",
   "execution_count": 24,
   "metadata": {},
   "outputs": [],
   "source": [
    "import numpy as np"
   ]
  },
  {
   "cell_type": "code",
   "execution_count": 36,
   "metadata": {},
   "outputs": [
    {
     "name": "stdout",
     "output_type": "stream",
     "text": "[1 2 3 4 5 6 7 8 9]\n[[1 2]\n [4 5]]\n-------------\n[[4 5 6]\n [7 8 9]]\n-------------\n[[4 5 6]\n [7 8 9]]\n-------------\n[[1 2 3]\n [4 5 6]\n [7 8 9]]\n-------------\n[[2 3]\n [5 6]]\n-------------\n[1 4]\n-------------\n[[1 2 3]\n [4 5 6]\n [7 8 9]]\n"
    }
   ],
   "source": [
    "# 슬라이싱\n",
    "\n",
    "array1 = np.arange(start=1,stop=10)\n",
    "print(array1)\n",
    "array2 = array1.reshape(3,3)\n",
    "print(array2[:2,:2])\n",
    "print('-------------')\n",
    "print(array2[1:3,0:3])\n",
    "print('-------------')\n",
    "print(array2[1:3,:])\n",
    "print('-------------')\n",
    "print(array2[:,:])\n",
    "print('-------------')\n",
    "print(array2[:2,1:])\n",
    "print('-------------')\n",
    "print(array2[:2,0])\n",
    "print('-------------')\n",
    "print(array2)"
   ]
  },
  {
   "cell_type": "code",
   "execution_count": 49,
   "metadata": {},
   "outputs": [
    {
     "name": "stdout",
     "output_type": "stream",
     "text": "[False False False False False  True  True  True  True]\n[1 2 3 4 5 6 7 8 9]\n[6 7 8 9]\n[6 7 8 9]\n"
    }
   ],
   "source": [
    "# 불린 인덱싱\n",
    "\n",
    "array1 = np.arange(start=1,stop=10)\n",
    "array3 = array1[array1>5]\n",
    "bool_indexs = np.array([False,False,False,False,False,True,True,True,True])\n",
    "array4 = array1[bool_indexs]\n",
    "\n",
    "print(array1 > 5)\n",
    "print(array1)\n",
    "print(array3)\n",
    "print(array4)"
   ]
  },
  {
   "cell_type": "code",
   "execution_count": 19,
   "metadata": {},
   "outputs": [
    {
     "name": "stdout",
     "output_type": "stream",
     "text": "[[0 1 2 3]\n [0 1 2 3]]\nNone\n[[1 3 5 9]\n [1 2 4 4]]\n[[1 3 5 9]\n [1 2 4 4]]\n"
    }
   ],
   "source": [
    "# 행렬의 정렬(sort)\n",
    "\n",
    "org_array = np.array([[3,1,9,5],[1,4,4,2]])\n",
    "sort_array1 = np.sort(org_array)\n",
    "sort_array2 = org_array.sort()\n",
    "\n",
    "print(sort_array2)\n",
    "print(org_array)\n",
    "print(sort_array1)"
   ]
  },
  {
   "cell_type": "code",
   "execution_count": 22,
   "metadata": {},
   "outputs": [
    {
     "name": "stdout",
     "output_type": "stream",
     "text": "[[1 0 3 2]\n [0 3 1 2]]\n"
    }
   ],
   "source": [
    "# 행렬의 정렬(argsort)\n",
    "\n",
    "org_array = np.array([[3,1,9,5],[1,4,4,2]])\n",
    "index_array = np.argsort(org_array)\n",
    "print(index_array)"
   ]
  },
  {
   "cell_type": "code",
   "execution_count": 10,
   "metadata": {},
   "outputs": [
    {
     "name": "stdout",
     "output_type": "stream",
     "text": "[[0 3 6]\n [1 4 7]\n [2 5 8]]\n"
    }
   ],
   "source": [
    "# 전치행렬(transpose)\n",
    "arr = np.array([[0,1,2],[3,4,5],[6,7,8]])\n",
    "arr_ = np.transpose(arr)\n",
    "print(arr_)"
   ]
  },
  {
   "cell_type": "code",
   "execution_count": 8,
   "metadata": {},
   "outputs": [
    {
     "name": "stdout",
     "output_type": "stream",
     "text": "[[ 58  64]\n [139 154]]\n"
    }
   ],
   "source": [
    "# 행렬 곱셈(dot)\n",
    "A = np.array([[1,2,3],\n",
    "              [4,5,6]])\n",
    "B = np.array([[7,8],\n",
    "              [9,10],\n",
    "              [11,12]])\n",
    "C = np.dot(A,B)\n",
    "print(C)"
   ]
  }
 ]
}