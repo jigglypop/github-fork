{
 "nbformat": 4,
 "nbformat_minor": 2,
 "metadata": {
  "language_info": {
   "name": "python",
   "codemirror_mode": {
    "name": "ipython",
    "version": 3
   },
   "version": "3.7.3"
  },
  "orig_nbformat": 2,
  "file_extension": ".py",
  "mimetype": "text/x-python",
  "name": "python",
  "npconvert_exporter": "python",
  "pygments_lexer": "ipython3",
  "version": 3
 },
 "cells": [
  {
   "cell_type": "code",
   "execution_count": 8,
   "metadata": {},
   "outputs": [
    {
     "name": "stdout",
     "output_type": "stream",
     "text": "CRIM    ZN  INDUS  CHAS    NOX     RM   AGE     DIS  RAD    TAX  \\\n0  0.00632  18.0   2.31   0.0  0.538  6.575  65.2  4.0900  1.0  296.0   \n1  0.02731   0.0   7.07   0.0  0.469  6.421  78.9  4.9671  2.0  242.0   \n2  0.02729   0.0   7.07   0.0  0.469  7.185  61.1  4.9671  2.0  242.0   \n\n   PTRATIO       B  LSTAT  PRICE  \n0     15.3  396.90   4.98   24.0  \n1     17.8  396.90   9.14   21.6  \n2     17.8  392.83   4.03   34.7  \n"
    }
   ],
   "source": [
    "import numpy as np\n",
    "import pandas as pd\n",
    "import matplotlib.pyplot as plt\n",
    "import seaborn as sns\n",
    "from sklearn.datasets import load_boston\n",
    "%matplotlib inline\n",
    "\n",
    "boston = load_boston()\n",
    "bostonDF = pd.DataFrame(boston.data,columns=boston.feature_names)\n",
    "bostonDF['PRICE'] = boston.target\n",
    "print(bostonDF.head(3))"
   ]
  },
  {
   "cell_type": "code",
   "execution_count": 9,
   "metadata": {},
   "outputs": [],
   "source": [
    "from sklearn.model_selection import train_test_split\n",
    "from sklearn.metrics import mean_squared_error, r2_score\n",
    "\n",
    "X_data = bostonDF.drop(['PRICE'],axis=1)\n",
    "y_data = bostonDF['PRICE']\n",
    "X_train,X_test,y_train,y_test = train_test_split(X_data,y_data,test_size=0.2,random_state=156)"
   ]
  },
  {
   "cell_type": "code",
   "execution_count": null,
   "metadata": {},
   "outputs": [],
   "source": []
  },
  {
   "cell_type": "code",
   "execution_count": 18,
   "metadata": {},
   "outputs": [
    {
     "name": "stdout",
     "output_type": "stream",
     "text": "[-11.422 -24.294 -28.144 -74.599 -28.517]\n[3.38  4.929 5.305 8.637 5.34 ]\n5.518\n"
    }
   ],
   "source": [
    "\n"
   ]
  },
  {
   "cell_type": "code",
   "execution_count": 22,
   "metadata": {},
   "outputs": [
    {
     "name": "stdout",
     "output_type": "stream",
     "text": "# 0\n[-12.46  -26.049 -33.074 -80.762 -33.314]\n[3.53  5.104 5.751 8.987 5.772]\n5.829\n# 0.1\n[-12.32  -25.198 -32.435 -80.703 -32.88 ]\n[3.51  5.02  5.695 8.983 5.734]\n5.788\n# 1\n[-11.711 -23.583 -29.693 -80.23  -31.116]\n[3.422 4.856 5.449 8.957 5.578]\n5.653\n# 10\n[-11.422 -24.294 -28.144 -74.599 -28.517]\n[3.38  4.929 5.305 8.637 5.34 ]\n5.518\n# 100\n[-12.825 -27.279 -34.68  -52.694 -22.051]\n[3.581 5.223 5.889 7.259 4.696]\n5.33\n"
    }
   ],
   "source": [
    "from sklearn.linear_model import Ridge\n",
    "from sklearn.model_selection import cross_val_score\n",
    "\n",
    "alphas = [0,0.1,1,10,100]\n",
    "for alpha in alphas:\n",
    "    ridge = Ridge(alpha=alpha)\n",
    "    neg_mse_scores = cross_val_score(ridge,X_data,y_data,scoring=\"neg_mean_squared_error\",cv=5)\n",
    "    rmse_scores = np.sqrt(-1 * neg_mse_scores)\n",
    "    avg_rmse = np.mean(rmse_scores)\n",
    "\n",
    "    print(\"# {}\".format(alpha))\n",
    "    print(np.round(neg_mse_scores,3))\n",
    "    print(np.round(rmse_scores,3))\n",
    "    print(round(avg_rmse,3))\n"
   ]
  }
 ]
}