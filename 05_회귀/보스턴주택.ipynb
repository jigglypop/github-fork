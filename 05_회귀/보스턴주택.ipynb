{
 "nbformat": 4,
 "nbformat_minor": 2,
 "metadata": {
  "language_info": {
   "name": "python",
   "codemirror_mode": {
    "name": "ipython",
    "version": 3
   },
   "version": "3.7.3"
  },
  "orig_nbformat": 2,
  "file_extension": ".py",
  "mimetype": "text/x-python",
  "name": "python",
  "npconvert_exporter": "python",
  "pygments_lexer": "ipython3",
  "version": 3
 },
 "cells": [
  {
   "cell_type": "code",
   "execution_count": 12,
   "metadata": {},
   "outputs": [
    {
     "name": "stdout",
     "output_type": "stream",
     "text": "CRIM    ZN  INDUS  CHAS    NOX     RM   AGE     DIS  RAD    TAX  \\\n0  0.00632  18.0   2.31   0.0  0.538  6.575  65.2  4.0900  1.0  296.0   \n1  0.02731   0.0   7.07   0.0  0.469  6.421  78.9  4.9671  2.0  242.0   \n2  0.02729   0.0   7.07   0.0  0.469  7.185  61.1  4.9671  2.0  242.0   \n\n   PTRATIO       B  LSTAT  PRICE  \n0     15.3  396.90   4.98   24.0  \n1     17.8  396.90   9.14   21.6  \n2     17.8  392.83   4.03   34.7  \n"
    }
   ],
   "source": [
    "import numpy as np\n",
    "import pandas as pd\n",
    "import matplotlib.pyplot as plt\n",
    "import seaborn as sns\n",
    "from sklearn.datasets import load_boston\n",
    "%matplotlib inline\n",
    "\n",
    "boston = load_boston()\n",
    "bostonDF = pd.DataFrame(boston.data,columns=boston.feature_names)\n",
    "bostonDF['PRICE'] = boston.target\n",
    "print(bostonDF.head(3))"
   ]
  },
  {
   "cell_type": "code",
   "execution_count": 35,
   "metadata": {},
   "outputs": [
    {
     "name": "stdout",
     "output_type": "stream",
     "text": "18.14026660438307 4.259139185842964\n0.7854511954574208\n39.29051011945228\n[-1.26922243e-01  6.41812066e-02  3.92889954e-02  2.75649142e+00\n -2.00898224e+01  3.44900195e+00  5.95889045e-03 -1.64557096e+00\n  3.28500267e-01 -1.31602465e-02 -8.84454934e-01  9.24218918e-03\n -5.44123065e-01]\n[ -0.1   0.1   0.    2.8 -20.1   3.4   0.   -1.6   0.3  -0.   -0.9   0.\n  -0.5]\n"
    }
   ],
   "source": [
    "from sklearn.model_selection import train_test_split\n",
    "from sklearn.linear_model import LinearRegression\n",
    "from sklearn.metrics import mean_squared_error, r2_score\n",
    "\n",
    "X_data = bostonDF.drop(['PRICE'],axis=1)\n",
    "y_data = bostonDF['PRICE']\n",
    "X_train,X_test,y_train,y_test = train_test_split(X_data,y_data,test_size=0.2,random_state=156)\n",
    "lr = LinearRegression()\n",
    "lr.fit(X_target,y_target)\n",
    "y_preds = lr_clf.predict(X_test)\n",
    "mse = mean_squared_error(y_test,y_preds)\n",
    "rmse = np.sqrt(mse)\n",
    "print(mse,rmse) #mse,mse*1/2\n",
    "print(r2_score(y_test,y_preds)) \n",
    "print(lr.intercept_) #intercept(절편)\n",
    "print(lr.coef_) #coefficients(회귀 계수)\n",
    "print(np.round(lr.coef_,1)) #coefficients(회귀 계수 맵핑)"
   ]
  },
  {
   "cell_type": "code",
   "execution_count": 34,
   "metadata": {},
   "outputs": [
    {
     "name": "stdout",
     "output_type": "stream",
     "text": "[ -0.1   0.1   0.    2.8 -20.1   3.4   0.   -1.6   0.3  -0.   -0.9   0.\n  -0.5]\n"
    }
   ],
   "source": []
  },
  {
   "cell_type": "code",
   "execution_count": 36,
   "metadata": {},
   "outputs": [],
   "source": [
    "coeff = pd.Series(data=np.round(lr.coef_,1),index=X_data.columns)\n",
    "print(coeff)"
   ]
  }
 ]
}