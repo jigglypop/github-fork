{
 "nbformat": 4,
 "nbformat_minor": 2,
 "metadata": {
  "language_info": {
   "name": "python",
   "codemirror_mode": {
    "name": "ipython",
    "version": 3
   },
   "version": "3.7.6-final"
  },
  "orig_nbformat": 2,
  "file_extension": ".py",
  "mimetype": "text/x-python",
  "name": "python",
  "npconvert_exporter": "python",
  "pygments_lexer": "ipython3",
  "version": 3,
  "kernelspec": {
   "name": "python3",
   "display_name": "Python 3"
  }
 },
 "cells": [
  {
   "cell_type": "code",
   "execution_count": 1,
   "metadata": {},
   "outputs": [],
   "source": [
    "# 텐서플로 2 버전 선택\n",
    "try:\n",
    "    # %tensorflow_version only exists in Colab.\n",
    "    %tensorflow_version 2.x\n",
    "except Exception:\n",
    "    pass\n",
    "import tensorflow as tf\n",
    "import numpy as np"
   ]
  },
  {
   "cell_type": "code",
   "execution_count": 2,
   "metadata": {},
   "outputs": [
    {
     "output_type": "stream",
     "name": "stdout",
     "text": "Model: \"sequential\"\n_________________________________________________________________\nLayer (type)                 Output Shape              Param #   \n=================================================================\nkeras_layer (KerasLayer)     multiple                  21802784  \n=================================================================\nTotal params: 21,802,784\nTrainable params: 0\nNon-trainable params: 21,802,784\n_________________________________________________________________\n"
    }
   ],
   "source": [
    "import tensorflow_hub as hub\n",
    "\n",
    "inception_url = 'https://tfhub.dev/google/tf2-preview/inception_v3/feature_vector/4'\n",
    "feature_model = tf.keras.Sequential([hub.KerasLayer(inception_url,output_shape=(2048,),trainable=False)])\n",
    "feature_model.build([None,299,299,3])\n",
    "feature_model.summary()"
   ]
  },
  {
   "cell_type": "code",
   "execution_count": 13,
   "metadata": {},
   "outputs": [],
   "source": [
    "import os\n",
    "import shutil\n",
    "import pandas as pd\n",
    "import tqdm as tqdm\n",
    "\n",
    "label_text = pd.read_csv('labels.csv')\n",
    "os.mkdir('./train_sub')\n",
    "\n",
    "for i in range(len(label_text)):\n",
    "    if os.path.exists('./train_sub/' + label_text.loc[i]['breed']) == False:\n",
    "        os.mkdir('./train_sub/' + label_text.loc[i]['breed'])\n",
    "    shutil.copy('./train/' + label_text.loc[i]['id'] + '.jpg', './train_sub/' + label_text.loc[i]['breed'])"
   ]
  },
  {
   "cell_type": "code",
   "execution_count": 14,
   "metadata": {},
   "outputs": [
    {
     "output_type": "stream",
     "name": "stdout",
     "text": "Found 0 images belonging to 0 classes.\nFound 0 images belonging to 0 classes.\n"
    }
   ],
   "source": [
    "from tensorflow.python.keras.preprocessing.image import ImageDataGenerator\n",
    "from keras.applications.inception_resnet_v2 import preprocess_input\n",
    "\n",
    "image_size = 299\n",
    "batch_size = 32\n",
    "\n",
    "train_datagen = ImageDataGenerator(rescale=1./255., horizontal_flip=True, shear_range=0.2, zoom_range=0.2, width_shift_range=0.2, height_shift_range=0.2, validation_split=0.25)\n",
    "valid_datagen = ImageDataGenerator(rescale=1./255., validation_split=0.25)\n",
    "\n",
    "train_generator = train_datagen.flow_from_directory(directory=\"./train_sub/\", subset=\"training\", batch_size=batch_size, seed=42, shuffle=True, class_mode=\"categorical\", target_size=(image_size, image_size))\n",
    "valid_generator = valid_datagen.flow_from_directory(directory=\"./train_sub/\", subset=\"validation\", batch_size=1, seed=42, shuffle=True, class_mode=\"categorical\", target_size=(image_size, image_size))"
   ]
  },
  {
   "cell_type": "code",
   "execution_count": null,
   "metadata": {},
   "outputs": [],
   "source": []
  }
 ]
}